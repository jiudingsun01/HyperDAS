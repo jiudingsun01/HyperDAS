{
 "cells": [
  {
   "cell_type": "code",
   "execution_count": 6,
   "metadata": {},
   "outputs": [],
   "source": [
    "from datasets import load_from_disk\n",
    "\n",
    "\n",
    "auto_ravel = load_from_disk(\"./auto_ravel/Q5_processed\")"
   ]
  },
  {
   "cell_type": "code",
   "execution_count": 19,
   "metadata": {},
   "outputs": [
    {
     "name": "stderr",
     "output_type": "stream",
     "text": [
      "  0%|          | 0/35208 [00:00<?, ?it/s]"
     ]
    },
    {
     "name": "stderr",
     "output_type": "stream",
     "text": [
      "100%|██████████| 35208/35208 [07:27<00:00, 78.61it/s]\n"
     ]
    }
   ],
   "source": [
    "new_attribute_types = []\n",
    "from tqdm import tqdm\n",
    "\n",
    "for tp in auto_ravel[\"attribute_type\"]:\n",
    "    if tp == \"cause\":\n",
    "        new_attribute_types.append(\"causal\")\n",
    "    else:\n",
    "        new_attribute_types.append(tp)\n",
    "        \n",
    "# auto_ravel is a Dataset object, replace the attribute_type column with the new attribute types\n",
    "for i, tp in enumerate(tqdm(auto_ravel)):\n",
    "    auto_ravel[\"attribute_type\"][i] = tp\n",
    "\n",
    "\n",
    "\n",
    "auto_ravel.save_to_disk(\"./auto_ravel/Q5_processed\")"
   ]
  },
  {
   "cell_type": "code",
   "execution_count": 24,
   "metadata": {},
   "outputs": [
    {
     "data": {
      "text/plain": [
       "(35208, 3976)"
      ]
     },
     "execution_count": 24,
     "metadata": {},
     "output_type": "execute_result"
    }
   ],
   "source": [
    "len(auto_ravel[\"attribute_type\"]), len([a for a in auto_ravel[\"attribute_type\"] if a == \"cause\"])\n",
    "\n"
   ]
  },
  {
   "cell_type": "code",
   "execution_count": null,
   "metadata": {},
   "outputs": [],
   "source": []
  }
 ],
 "metadata": {
  "kernelspec": {
   "display_name": "hypernet",
   "language": "python",
   "name": "python3"
  },
  "language_info": {
   "codemirror_mode": {
    "name": "ipython",
    "version": 3
   },
   "file_extension": ".py",
   "mimetype": "text/x-python",
   "name": "python",
   "nbconvert_exporter": "python",
   "pygments_lexer": "ipython3",
   "version": "3.10.14"
  }
 },
 "nbformat": 4,
 "nbformat_minor": 2
}
