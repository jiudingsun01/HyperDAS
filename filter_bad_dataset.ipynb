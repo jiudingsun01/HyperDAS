{
 "cells": [
  {
   "cell_type": "code",
   "execution_count": 2,
   "metadata": {},
   "outputs": [
    {
     "name": "stderr",
     "output_type": "stream",
     "text": [
      "/nlp/scr/sjd24/miniconda3/envs/hypernet/lib/python3.10/site-packages/tqdm/auto.py:21: TqdmWarning: IProgress not found. Please update jupyter and ipywidgets. See https://ipywidgets.readthedocs.io/en/stable/user_install.html\n",
      "  from .autonotebook import tqdm as notebook_tqdm\n"
     ]
    }
   ],
   "source": [
    "from torch.utils.data import DataLoader\n",
    "from datasets import load_from_disk\n",
    "from src.hyperdas.data_utils import generate_ravel_dataset, get_ravel_collate_fn, filter_dataset\n",
    "\n",
    "from transformers import AutoTokenizer\n",
    "\n",
    "%load_ext autoreload\n",
    "%autoreload 2"
   ]
  },
  {
   "cell_type": "code",
   "execution_count": 12,
   "metadata": {},
   "outputs": [
    {
     "name": "stderr",
     "output_type": "stream",
     "text": [
      "Special tokens have been added in the vocabulary, make sure the associated word embeddings are fine-tuned or trained.\n"
     ]
    }
   ],
   "source": [
    "tokenizer = AutoTokenizer.from_pretrained(\"/nlp/scr/sjd24/llama3-8b\")\n",
    "\n",
    "tokenizer.padding_side = \"left\"\n",
    "tokenizer.pad_token = tokenizer.eos_token\n",
    "tokenizer.pad_token_id = tokenizer.eos_token_id\n",
    "\n",
    "train_dataset = load_from_disk(\"./experiments/RAVEL/data/nobel_prize_winner_train\")\n",
    "test_dataset = load_from_disk(\"./experiments/RAVEL/data/nobel_prize_winner_test\")\n",
    "\n",
    "collate_fn = get_ravel_collate_fn(tokenizer, add_space_before_target=True, contain_entity_position=True, source_suffix_visibility=True, base_suffix_visibility=True, bos_token_visibility=False)\n",
    "dataloader = DataLoader(test_dataset, batch_size=1, collate_fn=collate_fn, shuffle=False)\n",
    "train_dataloader = DataLoader(train_dataset, batch_size=1, collate_fn=collate_fn, shuffle=False)"
   ]
  },
  {
   "cell_type": "code",
   "execution_count": 18,
   "metadata": {},
   "outputs": [],
   "source": [
    "test_dataset_erroneous_idxs = []\n",
    "for i, d in enumerate(test_dataset):\n",
    "    if d[\"target\"] == \"\" or d[\"counterfactual_target\"] == \"\":\n",
    "        test_dataset_erroneous_idxs.append(i)\n",
    "\n",
    "train_dataset_erroneous_idxs = []\n",
    "for i, d in enumerate(train_dataset):\n",
    "    if d[\"target\"] == \"\" or d[\"counterfactual_target\"] == \"\":\n",
    "        train_dataset_erroneous_idxs.append(i)"
   ]
  },
  {
   "cell_type": "code",
   "execution_count": 20,
   "metadata": {},
   "outputs": [],
   "source": [
    "train_dataset = [d for i, d in enumerate(train_dataset) if i not in train_dataset_erroneous_idxs]\n",
    "test_dataset = [d for i, d in enumerate(test_dataset) if i not in test_dataset_erroneous_idxs]\n",
    "\n",
    "from datasets import Dataset\n",
    "train_dataset = Dataset.from_list(train_dataset)\n",
    "test_dataset = Dataset.from_list(test_dataset)"
   ]
  },
  {
   "cell_type": "code",
   "execution_count": 21,
   "metadata": {},
   "outputs": [
    {
     "name": "stderr",
     "output_type": "stream",
     "text": [
      "Saving the dataset (1/1 shards): 100%|██████████| 72521/72521 [00:00<00:00, 496482.75 examples/s]\n",
      "Saving the dataset (1/1 shards): 100%|██████████| 14271/14271 [00:00<00:00, 377479.42 examples/s]\n"
     ]
    }
   ],
   "source": [
    "train_dataset.save_to_disk(\"./experiments/RAVEL/data/nobel_prize_winner_train\")\n",
    "test_dataset.save_to_disk(\"./experiments/RAVEL/data/nobel_prize_winner_test\")"
   ]
  },
  {
   "cell_type": "code",
   "execution_count": null,
   "metadata": {},
   "outputs": [],
   "source": []
  }
 ],
 "metadata": {
  "kernelspec": {
   "display_name": "hypernet",
   "language": "python",
   "name": "python3"
  },
  "language_info": {
   "codemirror_mode": {
    "name": "ipython",
    "version": 3
   },
   "file_extension": ".py",
   "mimetype": "text/x-python",
   "name": "python",
   "nbconvert_exporter": "python",
   "pygments_lexer": "ipython3",
   "version": "3.10.14"
  }
 },
 "nbformat": 4,
 "nbformat_minor": 2
}
