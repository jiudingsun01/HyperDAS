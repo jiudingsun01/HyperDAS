{
 "cells": [
  {
   "cell_type": "code",
   "execution_count": 1,
   "metadata": {},
   "outputs": [
    {
     "name": "stderr",
     "output_type": "stream",
     "text": [
      "/home/ubuntu/miniconda3/envs/hypernet/lib/python3.10/site-packages/tqdm/auto.py:21: TqdmWarning: IProgress not found. Please update jupyter and ipywidgets. See https://ipywidgets.readthedocs.io/en/stable/user_install.html\n",
      "  from .autonotebook import tqdm as notebook_tqdm\n"
     ]
    },
    {
     "name": "stdout",
     "output_type": "stream",
     "text": [
      "nnsight is not detected. Please install via 'pip install nnsight' for nnsight backend.\n"
     ]
    }
   ],
   "source": [
    "import torch\n",
    "from torch import compile\n",
    "import torch.nn as nn\n",
    "from torch.utils.data import Dataset, DataLoader\n",
    "from tqdm import tqdm\n",
    "import pandas as pd\n",
    "import os\n",
    "import time\n",
    "import sys\n",
    "import wandb\n",
    "import random\n",
    "import numpy as np\n",
    "import json\n",
    "from tqdm import tqdm\n",
    "from datasets import Dataset, load_from_disk\n",
    "from src.data_utils import get_ravel_collate_fn, generate_ravel_dataset_from_filtered\n",
    "from src.utils import add_fwd_hooks\n",
    "import argparse\n",
    "from pyvene import IntervenableConfig, RepresentationConfig, LowRankRotatedSpaceIntervention, IntervenableModel, count_parameters\n",
    "\n",
    "from torch import optim\n",
    "from transformers import AutoTokenizer, LlamaForCausalLM\n",
    "from transformers import get_scheduler\n",
    "\n",
    "\n",
    "%load_ext autoreload\n",
    "%autoreload 2"
   ]
  },
  {
   "cell_type": "code",
   "execution_count": 2,
   "metadata": {},
   "outputs": [],
   "source": [
    "model_name_or_path = \"./models/llama3-8b\"\n",
    "das_path = \"./models/country_baseline/final_das_module.pt\"\n",
    "\n",
    "train_set_path = \"./experiments/ravel/data/ravel_city_Country_train\"\n",
    "test_set_path = \"./experiments/ravel/data/ravel_city_Country_test\"\n",
    "\n",
    "intervention_location = \"last_entity_token\""
   ]
  },
  {
   "cell_type": "code",
   "execution_count": 4,
   "metadata": {},
   "outputs": [
    {
     "name": "stderr",
     "output_type": "stream",
     "text": [
      "Special tokens have been added in the vocabulary, make sure the associated word embeddings are fine-tuned or trained.\n",
      "Loading checkpoint shards: 100%|██████████| 4/4 [00:01<00:00,  2.07it/s]\n"
     ]
    }
   ],
   "source": [
    "tokenizer = AutoTokenizer.from_pretrained(model_name_or_path)\n",
    "tokenizer.pad_token = tokenizer.eos_token\n",
    "\n",
    "tokenizer.padding_side = \"left\"\n",
    "tokenizer.pad_token = tokenizer.eos_token\n",
    "tokenizer.pad_token_id = tokenizer.eos_token_id\n",
    "\n",
    "train_set = load_from_disk(train_set_path)\n",
    "test_set = load_from_disk(test_set_path)\n",
    "            \n",
    "collate_fn = get_ravel_collate_fn(\n",
    "    tokenizer, \n",
    "    source_suffix_visibility=True, \n",
    "    base_suffix_visibility=True, \n",
    "    add_space_before_target=True,\n",
    "    contain_entity_position=True,\n",
    ")\n",
    "\n",
    "data_loader = DataLoader(\n",
    "    train_set, batch_size=16, collate_fn=collate_fn, shuffle=True\n",
    ")\n",
    "\n",
    "test_data_loader = DataLoader(\n",
    "    test_set, batch_size=16, collate_fn=collate_fn, shuffle=True\n",
    ")\n",
    "\n",
    "model = LlamaForCausalLM.from_pretrained(model_name_or_path, torch_dtype=torch.bfloat16)\n",
    "model = model.to(\"cuda\")\n",
    "\n",
    "intervention_config = IntervenableConfig(\n",
    "    model_type=type(model),\n",
    "    representations=[\n",
    "    RepresentationConfig(\n",
    "            12,  # layer\n",
    "            'block_output',  # intervention repr\n",
    "            \"pos\",  # intervention unit\n",
    "            1,  # max number of unit\n",
    "            128)\n",
    "    ],\n",
    "    intervention_types=LowRankRotatedSpaceIntervention,\n",
    ")\n",
    "\n",
    "intervenable = IntervenableModel(intervention_config, model)\n",
    "intervenable.set_device(model.device)\n",
    "intervenable.disable_model_gradients()"
   ]
  },
  {
   "cell_type": "code",
   "execution_count": 5,
   "metadata": {},
   "outputs": [],
   "source": [
    "def forward(\n",
    "    base_input_ids: torch.Tensor = None,\n",
    "    base_attention_mask: torch.Tensor = None,\n",
    "    base_intervention_position: torch.Tensor = None,\n",
    "    base_position_ids: torch.Tensor = None,\n",
    "    source_input_ids: torch.Tensor = None,\n",
    "    source_attention_mask: torch.Tensor = None,\n",
    "    source_intervention_position: torch.Tensor = None,\n",
    "    source_position_ids: torch.Tensor = None,\n",
    "    intervention_layer: int = None,\n",
    "):\n",
    "    if intervention_layer is None:\n",
    "        raise ValueError(\"intervention_layer must be specified\")\n",
    "    \n",
    "    if base_position_ids is None:\n",
    "        # 0 for all the padding tokens and start from 1 for the rest\n",
    "        base_position_ids = torch.cumsum(base_attention_mask, dim=1) * base_attention_mask\n",
    "    \n",
    "    if source_position_ids is None:\n",
    "        source_position_ids = torch.cumsum(source_attention_mask, dim=1) * source_attention_mask\n",
    "    \n",
    "    # print(source_intervention_position.unsqueeze(0).shape, base_intervention_position.unsqueeze(0).shape)\n",
    "    b_s = base_input_ids.shape[0]\n",
    "    intervention_locations = {\n",
    "        \"sources->base\": (\n",
    "            source_intervention_position.unsqueeze(0).unsqueeze(-1),\n",
    "            base_intervention_position.unsqueeze(0).unsqueeze(-1)\n",
    "        )\n",
    "    }\n",
    "    \n",
    "    _, counterfactual_outputs = intervenable(\n",
    "        {\n",
    "            \"input_ids\": base_input_ids,\n",
    "            'attention_mask': base_attention_mask,\n",
    "            'position_ids': base_position_ids\n",
    "        }, [\n",
    "            {\n",
    "                \"input_ids\": source_input_ids,\n",
    "                'attention_mask': source_attention_mask,\n",
    "                'position_ids': source_position_ids\n",
    "            }\n",
    "        ] , intervention_locations\n",
    "    )\n",
    "    \n",
    "    return counterfactual_outputs\n",
    "    \n",
    "            \n",
    "def eval_accuracy(test_loader, eval_n_label_tokens=3):\n",
    "    \n",
    "    intervenable.eval()\n",
    "    correct_idxs = []\n",
    "    is_causal = []\n",
    "    \n",
    "    with torch.no_grad():\n",
    "        for batch_id, batch in enumerate(test_loader):\n",
    "            \n",
    "            if intervention_location == \"last_entity_token\":\n",
    "                base_intervention_position = batch[\"base_entity_position_ids\"].to(\"cuda\") \n",
    "                source_intervention_position = batch[\"source_entity_position_ids\"].to(\"cuda\")\n",
    "            else:\n",
    "                base_intervention_position = batch[\"base_input_ids\"].shape[1] - 1\n",
    "                source_intervention_position = batch[\"source_input_ids\"].shape[1] - 1\n",
    "                \n",
    "                base_intervention_position = torch.tensor([base_intervention_position] * batch[\"base_input_ids\"].shape[0]).to(\"cuda\")\n",
    "                source_intervention_position = torch.tensor([source_intervention_position] * batch[\"source_input_ids\"].shape[0]).to(\"cuda\")\n",
    "            \n",
    "            output = forward(\n",
    "                base_input_ids=batch[\"base_input_ids\"].to(\"cuda\"),\n",
    "                base_attention_mask=batch[\"base_attention_mask\"].to(\"cuda\"),\n",
    "                base_intervention_position=base_intervention_position,\n",
    "                source_input_ids=batch[\"source_input_ids\"].to(\"cuda\"),\n",
    "                source_attention_mask=batch[\"source_attention_mask\"].to(\"cuda\"),\n",
    "                source_intervention_position=source_intervention_position,\n",
    "                intervention_layer=12,\n",
    "            )\n",
    "            \n",
    "            logits = output.logits\n",
    "                            \n",
    "            batch_pred_ids = torch.argmax(logits, dim=-1)\n",
    "            is_causal.extend(batch[\"is_causal\"].cpu().numpy().tolist())\n",
    "            \n",
    "            for i, (label, pred_ids) in enumerate(zip(batch[\"labels\"].to(\"cuda\"), batch_pred_ids)):\n",
    "                label_idx = label != -100\n",
    "                output_idx = torch.zeros_like(label_idx)\n",
    "                output_idx[:-1] = label_idx[1:]\n",
    "                \n",
    "                label = label[label_idx]\n",
    "                pred_ids = pred_ids[output_idx]\n",
    "                \n",
    "                if eval_n_label_tokens is not None and len(label) > eval_n_label_tokens:\n",
    "                    label = label[:eval_n_label_tokens]\n",
    "                    pred_ids = pred_ids[:eval_n_label_tokens]\n",
    "                \n",
    "                is_correct = (torch.sum (label == pred_ids) == torch.numel(label)).item()    \n",
    "                if is_correct:\n",
    "                    correct_idxs.append(batch_id * len(batch[\"labels\"]) + i)\n",
    "            \n",
    "            \n",
    "    total_causal = sum(is_causal)\n",
    "    total_isolate = len(is_causal) - total_causal\n",
    "    \n",
    "    correct_causal = sum([is_causal[i] for i in correct_idxs])\n",
    "    correct_isolate = len(correct_idxs) - correct_causal\n",
    "    \n",
    "    causal_acc = correct_causal / total_causal if total_causal > 0 else 0.0\n",
    "    isolate_acc = correct_isolate / total_isolate if total_isolate > 0 else 0.0\n",
    "    \n",
    "    disentangle_acc = 0.5 * (causal_acc + isolate_acc) if total_isolate > 0 else causal_acc\n",
    "    \n",
    "    accuracies = {\n",
    "        \"causal\": causal_acc,\n",
    "        \"isolate\": isolate_acc,\n",
    "        \"disentangle\": disentangle_acc\n",
    "    }\n",
    "                \n",
    "    return accuracies"
   ]
  },
  {
   "cell_type": "code",
   "execution_count": 6,
   "metadata": {},
   "outputs": [
    {
     "name": "stderr",
     "output_type": "stream",
     "text": [
      "/tmp/ipykernel_5690/2452605372.py:2: FutureWarning: You are using `torch.load` with `weights_only=False` (the current default value), which uses the default pickle module implicitly. It is possible to construct malicious pickle data which will execute arbitrary code during unpickling (See https://github.com/pytorch/pytorch/blob/main/SECURITY.md#untrusted-models for more details). In a future release, the default value for `weights_only` will be flipped to `True`. This limits the functions that could be executed during unpickling. Arbitrary objects will no longer be allowed to be loaded via this mode unless they are explicitly allowlisted by the user via `torch.serialization.add_safe_globals`. We recommend you start setting `weights_only=True` for any use case where you don't have full control of the loaded file. Please open an issue on GitHub for any issues related to this experimental feature.\n",
      "  intervenable.interventions[inv_key][0].load_state_dict(torch.load(das_path))\n",
      "Asking to truncate to max_length but no maximum length is provided and the model has no predefined maximum length. Default to no truncation.\n"
     ]
    },
    {
     "name": "stderr",
     "output_type": "stream",
     "text": [
      "/home/ubuntu/HyperDAS/pyvene/models/modeling_utils.py:295: UserWarning: To copy construct from a tensor, it is recommended to use sourceTensor.clone().detach() or sourceTensor.clone().detach().requires_grad_(True), rather than torch.tensor(sourceTensor).\n",
      "  unit_locations = torch.tensor(\n",
      "/home/ubuntu/HyperDAS/pyvene/models/modeling_utils.py:351: UserWarning: To copy construct from a tensor, it is recommended to use sourceTensor.clone().detach() or sourceTensor.clone().detach().requires_grad_(True), rather than torch.tensor(sourceTensor).\n",
      "  unit_locations = torch.tensor(\n"
     ]
    },
    {
     "data": {
      "text/plain": [
       "{'causal': 0.8653846153846154,\n",
       " 'isolate': 0.890625,\n",
       " 'disentangle': 0.8780048076923077}"
      ]
     },
     "execution_count": 6,
     "metadata": {},
     "output_type": "execute_result"
    }
   ],
   "source": [
    "inv_key = list(intervenable.interventions.keys())[0]\n",
    "intervenable.interventions[inv_key][0].load_state_dict(torch.load(das_path))\n",
    "\n",
    "eval_accuracy(test_data_loader)"
   ]
  },
  {
   "cell_type": "code",
   "execution_count": null,
   "metadata": {},
   "outputs": [],
   "source": []
  }
 ],
 "metadata": {
  "kernelspec": {
   "display_name": "hypernet",
   "language": "python",
   "name": "python3"
  },
  "language_info": {
   "codemirror_mode": {
    "name": "ipython",
    "version": 3
   },
   "file_extension": ".py",
   "mimetype": "text/x-python",
   "name": "python",
   "nbconvert_exporter": "python",
   "pygments_lexer": "ipython3",
   "version": "3.10.14"
  }
 },
 "nbformat": 4,
 "nbformat_minor": 2
}
