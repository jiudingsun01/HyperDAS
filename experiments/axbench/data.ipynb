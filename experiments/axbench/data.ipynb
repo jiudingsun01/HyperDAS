{
 "cells": [
  {
   "cell_type": "code",
   "execution_count": 1,
   "metadata": {},
   "outputs": [
    {
     "data": {
      "application/vnd.jupyter.widget-view+json": {
       "model_id": "efa299b0b990445c826966d4cd38818c",
       "version_major": 2,
       "version_minor": 0
      },
      "text/plain": [
       "data.parquet:   0%|          | 0.00/10.5M [00:00<?, ?B/s]"
      ]
     },
     "metadata": {},
     "output_type": "display_data"
    },
    {
     "data": {
      "application/vnd.jupyter.widget-view+json": {
       "model_id": "d8569e511c9b45fcae2d212ae83cbf3c",
       "version_major": 2,
       "version_minor": 0
      },
      "text/plain": [
       "data.parquet:   0%|          | 0.00/10.0M [00:00<?, ?B/s]"
      ]
     },
     "metadata": {},
     "output_type": "display_data"
    }
   ],
   "source": [
    "from huggingface_hub import hf_hub_download\n",
    "import pandas as pd\n",
    "from datasets import Dataset, DatasetDict\n",
    "\n",
    "dataset_name = \"concept500\"\n",
    "\n",
    "# Download both splits\n",
    "train_path = hf_hub_download(\n",
    "    repo_id=f\"pyvene/axbench-{dataset_name}\",\n",
    "    filename=\"2b/l10/train/data.parquet\",\n",
    "    repo_type=\"dataset\",\n",
    ")\n",
    "\n",
    "test_path = hf_hub_download(\n",
    "    repo_id=f\"pyvene/axbench-{dataset_name}\",\n",
    "    filename=\"2b/l10/test/data.parquet\",\n",
    "    repo_type=\"dataset\",\n",
    ")\n",
    "\n",
    "# Read and convert to HF dataset\n",
    "dataset = DatasetDict(\n",
    "    {\n",
    "        \"train\": Dataset.from_pandas(pd.read_parquet(train_path)),\n",
    "        \"test\": Dataset.from_pandas(pd.read_parquet(test_path)),\n",
    "    }\n",
    ")"
   ]
  },
  {
   "cell_type": "code",
   "execution_count": 2,
   "metadata": {},
   "outputs": [
    {
     "data": {
      "text/plain": [
       "DatasetDict({\n",
       "    train: Dataset({\n",
       "        features: ['input', 'output', 'output_concept', 'concept_genre', 'category', 'dataset_category', 'concept_id'],\n",
       "        num_rows: 36216\n",
       "    })\n",
       "    test: Dataset({\n",
       "        features: ['input', 'output', 'output_concept', 'concept_genre', 'category', 'dataset_category', 'concept_id', 'sae_link', 'sae_id'],\n",
       "        num_rows: 37958\n",
       "    })\n",
       "})"
      ]
     },
     "execution_count": 2,
     "metadata": {},
     "output_type": "execute_result"
    }
   ],
   "source": [
    "dataset"
   ]
  },
  {
   "cell_type": "code",
   "execution_count": null,
   "metadata": {},
   "outputs": [
    {
     "data": {
      "application/vnd.jupyter.widget-view+json": {
       "model_id": "bdce539c1f314baf88cd5414c72d04b1",
       "version_major": 2,
       "version_minor": 0
      },
      "text/plain": [
       "Saving the dataset (0/1 shards):   0%|          | 0/36216 [00:00<?, ? examples/s]"
      ]
     },
     "metadata": {},
     "output_type": "display_data"
    },
    {
     "data": {
      "application/vnd.jupyter.widget-view+json": {
       "model_id": "cb0509a233a5430d9b94cb07c06efc2e",
       "version_major": 2,
       "version_minor": 0
      },
      "text/plain": [
       "Saving the dataset (0/1 shards):   0%|          | 0/37958 [00:00<?, ? examples/s]"
      ]
     },
     "metadata": {},
     "output_type": "display_data"
    }
   ],
   "source": [
    "dataset.save_to_disk(f\"./data/{dataset_name}_2b_l10\")"
   ]
  }
 ],
 "metadata": {
  "kernelspec": {
   "display_name": "Python 3",
   "language": "python",
   "name": "python3"
  },
  "language_info": {
   "codemirror_mode": {
    "name": "ipython",
    "version": 3
   },
   "file_extension": ".py",
   "mimetype": "text/x-python",
   "name": "python",
   "nbconvert_exporter": "python",
   "pygments_lexer": "ipython3",
   "version": "3.12.9"
  }
 },
 "nbformat": 4,
 "nbformat_minor": 2
}
