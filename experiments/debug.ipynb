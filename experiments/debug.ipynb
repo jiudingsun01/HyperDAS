{
 "cells": [
  {
   "cell_type": "code",
   "execution_count": 1,
   "metadata": {},
   "outputs": [],
   "source": [
    "from transformers import AutoTokenizer\n",
    "\n",
    "tokenizer = AutoTokenizer.from_pretrained(\"google/gemma-2b\")"
   ]
  },
  {
   "cell_type": "code",
   "execution_count": 4,
   "metadata": {},
   "outputs": [
    {
     "data": {
      "text/plain": [
       "{'input_ids': [2, 118340, 131161, 131161], 'attention_mask': [1, 1, 1, 1]}"
      ]
     },
     "execution_count": 4,
     "metadata": {},
     "output_type": "execute_result"
    }
   ],
   "source": [
    "tokenizer.pad_token = tokenizer.eos_token\n",
    "tokenizer.padding_side = \"left\"\n",
    "tokenizer(\"bruh bruh bruh\", padding=True, truncation=True)"
   ]
  },
  {
   "cell_type": "code",
   "execution_count": 2,
   "metadata": {},
   "outputs": [],
   "source": [
    "from huggingface_hub import hf_hub_download\n",
    "import pandas as pd\n",
    "from datasets import Dataset, DatasetDict\n",
    "\n",
    "# Download both splits\n",
    "train_path = hf_hub_download(\n",
    "    repo_id=\"pyvene/axbench-concept10\",\n",
    "    filename=\"2b/l10/train/data.parquet\",\n",
    "    repo_type=\"dataset\",\n",
    ")\n",
    "\n",
    "test_path = hf_hub_download(\n",
    "    repo_id=\"pyvene/axbench-concept10\",\n",
    "    filename=\"2b/l10/test/data.parquet\",\n",
    "    repo_type=\"dataset\",\n",
    ")\n",
    "\n",
    "# Read and convert to HF dataset\n",
    "dataset = DatasetDict(\n",
    "    {\n",
    "        \"train\": Dataset.from_pandas(pd.read_parquet(train_path)),\n",
    "        \"test\": Dataset.from_pandas(pd.read_parquet(test_path)),\n",
    "    }\n",
    ")"
   ]
  },
  {
   "cell_type": "code",
   "execution_count": 3,
   "metadata": {},
   "outputs": [
    {
     "data": {
      "text/plain": [
       "DatasetDict({\n",
       "    train: Dataset({\n",
       "        features: ['input', 'output', 'output_concept', 'concept_genre', 'category', 'dataset_category', 'concept_id'],\n",
       "        num_rows: 936\n",
       "    })\n",
       "    test: Dataset({\n",
       "        features: ['input', 'output', 'output_concept', 'concept_genre', 'category', 'dataset_category', 'concept_id', 'sae_link', 'sae_id'],\n",
       "        num_rows: 770\n",
       "    })\n",
       "})"
      ]
     },
     "execution_count": 3,
     "metadata": {},
     "output_type": "execute_result"
    }
   ],
   "source": [
    "dataset"
   ]
  },
  {
   "cell_type": "code",
   "execution_count": 5,
   "metadata": {},
   "outputs": [
    {
     "data": {
      "application/vnd.jupyter.widget-view+json": {
       "model_id": "1baa89900d074c0bbeff1a78f933c546",
       "version_major": 2,
       "version_minor": 0
      },
      "text/plain": [
       "Saving the dataset (0/1 shards):   0%|          | 0/936 [00:00<?, ? examples/s]"
      ]
     },
     "metadata": {},
     "output_type": "display_data"
    },
    {
     "data": {
      "application/vnd.jupyter.widget-view+json": {
       "model_id": "6b69d954e665462f8e050282ec6c953a",
       "version_major": 2,
       "version_minor": 0
      },
      "text/plain": [
       "Saving the dataset (0/1 shards):   0%|          | 0/770 [00:00<?, ? examples/s]"
      ]
     },
     "metadata": {},
     "output_type": "display_data"
    }
   ],
   "source": [
    "dataset.save_to_disk(\"../experiments/axbench/concept10_2b_l10\")"
   ]
  },
  {
   "cell_type": "code",
   "execution_count": 1,
   "metadata": {},
   "outputs": [],
   "source": [
    "from datasets import load_from_disk\n",
    "\n",
    "ds = load_from_disk(\"../experiments/axbench/concept10_2b_l10\")"
   ]
  },
  {
   "cell_type": "code",
   "execution_count": 4,
   "metadata": {},
   "outputs": [
    {
     "data": {
      "text/plain": [
       "{'input': 'What ancient organization invented the concept of Democracy?',\n",
       " 'output': 'The concept of Democracy was first developed by the ancient Athenians around the 5th century BCE, specifically around 508-507 BCE when Cleisthenes implemented his reforms. Reference works such as \"A History of Ancient Greece\" by J.M. Roberts (published in 1994) detail these early democratic practices, while the article \"The Athenian Democracy\" by L. K. S. Sinclair (found in the Journal of Hellenic Studies, 1990) elaborates on its evolution and significance.',\n",
       " 'output_concept': 'references to specific dates and publication information',\n",
       " 'concept_genre': 'text',\n",
       " 'category': 'positive',\n",
       " 'dataset_category': 'instruction',\n",
       " 'concept_id': 0,\n",
       " 'sae_link': 'https://www.neuronpedia.org/gemma-2-2b/10-gemmascope-res-16k/14874',\n",
       " 'sae_id': 14874}"
      ]
     },
     "execution_count": 4,
     "metadata": {},
     "output_type": "execute_result"
    }
   ],
   "source": [
    "ds[\"test\"][0]"
   ]
  },
  {
   "cell_type": "code",
   "execution_count": null,
   "metadata": {},
   "outputs": [],
   "source": []
  }
 ],
 "metadata": {
  "kernelspec": {
   "display_name": "Python 3",
   "language": "python",
   "name": "python3"
  },
  "language_info": {
   "codemirror_mode": {
    "name": "ipython",
    "version": 3
   },
   "file_extension": ".py",
   "mimetype": "text/x-python",
   "name": "python",
   "nbconvert_exporter": "python",
   "pygments_lexer": "ipython3",
   "version": "3.12.8"
  }
 },
 "nbformat": 4,
 "nbformat_minor": 2
}
