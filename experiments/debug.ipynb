{
 "cells": [
  {
   "cell_type": "code",
   "execution_count": 2,
   "metadata": {},
   "outputs": [
    {
     "name": "stdout",
     "output_type": "stream",
     "text": [
      "The autoreload extension is already loaded. To reload it, use:\n",
      "  %reload_ext autoreload\n"
     ]
    }
   ],
   "source": [
    "import sys\n",
    "\n",
    "import torch\n",
    "import datasets\n",
    "\n",
    "sys.path.append(\"..\")\n",
    "\n",
    "from logger import get_logger\n",
    "\n",
    "%load_ext autoreload\n",
    "%autoreload 2"
   ]
  },
  {
   "cell_type": "code",
   "execution_count": 5,
   "metadata": {},
   "outputs": [],
   "source": [
    "ds_train = datasets.load_from_disk(\n",
    "    \"/workspace/HyperDAS/experiments/RAVEL/data/city_country_train\"\n",
    ")\n",
    "ds_test = datasets.load_from_disk(\n",
    "    \"/workspace/HyperDAS/experiments/RAVEL/data/city_country_test\"\n",
    ")"
   ]
  },
  {
   "cell_type": "code",
   "execution_count": 6,
   "metadata": {},
   "outputs": [
    {
     "data": {
      "text/plain": [
       "(Dataset({\n",
       "     features: ['input_prefix', 'input_suffix', 'counterfactual_input_prefix', 'counterfactual_input_suffix', 'edit_instruction', 'entity', 'counterfactual_entity', 'target', 'counterfactual_target', 'attribute_type', 'domain', 'attribute', 'verify_text'],\n",
       "     num_rows: 13306\n",
       " }),\n",
       " Dataset({\n",
       "     features: ['input_prefix', 'input_suffix', 'counterfactual_input_prefix', 'counterfactual_input_suffix', 'edit_instruction', 'entity', 'counterfactual_entity', 'target', 'counterfactual_target', 'attribute_type', 'domain', 'attribute', 'verify_text'],\n",
       "     num_rows: 2622\n",
       " }))"
      ]
     },
     "execution_count": 6,
     "metadata": {},
     "output_type": "execute_result"
    }
   ],
   "source": [
    "ds_train, ds_test"
   ]
  },
  {
   "cell_type": "code",
   "execution_count": 2,
   "metadata": {},
   "outputs": [
    {
     "name": "stderr",
     "output_type": "stream",
     "text": [
      "/tmp/ipykernel_7294/3789294226.py:1: FutureWarning: You are using `torch.load` with `weights_only=False` (the current default value), which uses the default pickle module implicitly. It is possible to construct malicious pickle data which will execute arbitrary code during unpickling (See https://github.com/pytorch/pytorch/blob/main/SECURITY.md#untrusted-models for more details). In a future release, the default value for `weights_only` will be flipped to `True`. This limits the functions that could be executed during unpickling. Arbitrary objects will no longer be allowed to be loaded via this mode unless they are explicitly allowlisted by the user via `torch.serialization.add_safe_globals`. We recommend you start setting `weights_only=True` for any use case where you don't have full control of the loaded file. Please open an issue on GitHub for any issues related to this experimental feature.\n",
      "  sd = torch.load(\"/workspace/HyperDAS/assets/checkpoints/ReflectSelect_20241029_161135/final_model/das.pt\")\n"
     ]
    }
   ],
   "source": [
    "sd = torch.load(\n",
    "    \"/workspace/HyperDAS/assets/checkpoints/ReflectSelect_20241029_161135/final_model/das.pt\"\n",
    ")"
   ]
  },
  {
   "cell_type": "code",
   "execution_count": 4,
   "metadata": {},
   "outputs": [
    {
     "name": "stdout",
     "output_type": "stream",
     "text": [
      "rotate_layer.parametrizations.weight.original\n",
      "rotate_layer.parametrizations.weight.0.base\n",
      "rv_proj.gate_proj.weight\n",
      "rv_proj.up_proj.weight\n",
      "rv_proj.down_proj.weight\n",
      "input_layernorm.weight\n"
     ]
    }
   ],
   "source": [
    "for k in sd.keys():\n",
    "    print(k)"
   ]
  },
  {
   "cell_type": "code",
   "execution_count": 5,
   "metadata": {},
   "outputs": [
    {
     "data": {
      "text/plain": [
       "torch.Size([4096, 32])"
      ]
     },
     "execution_count": 5,
     "metadata": {},
     "output_type": "execute_result"
    }
   ],
   "source": [
    "sd[\"rotate_layer.parametrizations.weight.original\"].shape"
   ]
  },
  {
   "cell_type": "code",
   "execution_count": 6,
   "metadata": {},
   "outputs": [
    {
     "data": {
      "text/plain": [
       "torch.Size([4096, 4096])"
      ]
     },
     "execution_count": 6,
     "metadata": {},
     "output_type": "execute_result"
    }
   ],
   "source": [
    "sd[\"rotate_layer.parametrizations.weight.0.base\"].shape"
   ]
  },
  {
   "cell_type": "code",
   "execution_count": 7,
   "metadata": {},
   "outputs": [],
   "source": [
    "orth_linear = torch.nn.utils.parametrizations.orthogonal(torch.nn.Linear(20, 40))"
   ]
  },
  {
   "cell_type": "code",
   "execution_count": 9,
   "metadata": {},
   "outputs": [],
   "source": [
    "sdt = orth_linear.state_dict()"
   ]
  },
  {
   "cell_type": "code",
   "execution_count": 12,
   "metadata": {},
   "outputs": [
    {
     "data": {
      "text/plain": [
       "(torch.Size([40, 40]), torch.Size([40, 20]))"
      ]
     },
     "execution_count": 12,
     "metadata": {},
     "output_type": "execute_result"
    }
   ],
   "source": [
    "(\n",
    "    sdt[\"parametrizations.weight.0.base\"].shape,\n",
    "    sdt[\"parametrizations.weight.original\"].shape,\n",
    ")"
   ]
  },
  {
   "cell_type": "code",
   "execution_count": 13,
   "metadata": {},
   "outputs": [
    {
     "data": {
      "text/plain": [
       "tensor(0.)"
      ]
     },
     "execution_count": 13,
     "metadata": {},
     "output_type": "execute_result"
    }
   ],
   "source": [
    "torch.dist(\n",
    "    sdt[\"parametrizations.weight.original\"].T @ sdt[\"parametrizations.weight.original\"],\n",
    "    torch.eye(20),\n",
    ")"
   ]
  },
  {
   "cell_type": "code",
   "execution_count": 2,
   "metadata": {},
   "outputs": [
    {
     "name": "stderr",
     "output_type": "stream",
     "text": [
      "DEBUG:__main__:This is a debug message\n"
     ]
    }
   ],
   "source": [
    "logger = get_logger(__name__)\n",
    "logger.debug(\"This is a debug message\")"
   ]
  },
  {
   "cell_type": "code",
   "execution_count": 8,
   "metadata": {},
   "outputs": [
    {
     "name": "stdout",
     "output_type": "stream",
     "text": [
      "True False\n"
     ]
    }
   ],
   "source": [
    "x = torch.nn.Parameter(torch.randn(5, 5), requires_grad=True)\n",
    "\n",
    "y = 5 * x + 2\n",
    "\n",
    "vals, indices = torch.topk(y, 2)\n",
    "\n",
    "print(vals.requires_grad, indices.requires_grad)\n",
    "\n",
    "loss = vals.norm()\n",
    "loss.backward()"
   ]
  },
  {
   "cell_type": "code",
   "execution_count": 6,
   "metadata": {},
   "outputs": [
    {
     "name": "stderr",
     "output_type": "stream",
     "text": [
      "/tmp/ipykernel_462449/3846127606.py:1: UserWarning: The .grad attribute of a Tensor that is not a leaf Tensor is being accessed. Its .grad attribute won't be populated during autograd.backward(). If you indeed want the .grad field to be populated for a non-leaf Tensor, use .retain_grad() on the non-leaf Tensor. If you access the non-leaf Tensor by mistake, make sure you access the leaf Tensor instead. See github.com/pytorch/pytorch/pull/30531 for more informations. (Triggered internally at aten/src/ATen/core/TensorBody.h:489.)\n",
      "  vals._grad\n"
     ]
    }
   ],
   "source": [
    "vals._grad"
   ]
  },
  {
   "cell_type": "code",
   "execution_count": 3,
   "metadata": {},
   "outputs": [
    {
     "name": "stdout",
     "output_type": "stream",
     "text": [
      "Input: tensor([[-0.3632, -0.4344, -0.5378, -0.0366, -1.7030]], requires_grad=True)\n",
      "Output (sum of top-3 values): tensor(1.5141, grad_fn=<SumBackward0>)\n",
      "Top-3 indices: tensor([[1, 0, 3]])\n",
      "Input gradient: tensor([[ 0.1855, -0.7287, -0.2749,  0.0936, -0.5795]])\n",
      "Linear layer weight gradient: tensor([[-0.3632, -0.4344, -0.5378, -0.0366, -1.7030],\n",
      "        [-0.3632, -0.4344, -0.5378, -0.0366, -1.7030],\n",
      "        [-0.0000, -0.0000, -0.0000, -0.0000, -0.0000],\n",
      "        [-0.3632, -0.4344, -0.5378, -0.0366, -1.7030],\n",
      "        [-0.0000, -0.0000, -0.0000, -0.0000, -0.0000]])\n"
     ]
    }
   ],
   "source": [
    "import torch\n",
    "import torch.nn as nn\n",
    "\n",
    "\n",
    "class TopKSTE(torch.autograd.Function):\n",
    "    @staticmethod\n",
    "    def forward(ctx, input, k):\n",
    "        # Get the values and indices of the top k elements\n",
    "        vals, indices = torch.topk(input, k, dim=-1)\n",
    "        ctx.save_for_backward(indices, torch.tensor(input.shape))\n",
    "        return vals, indices\n",
    "\n",
    "    @staticmethod\n",
    "    def backward(ctx, grad_output, grad_indices):\n",
    "        indices, input_shape = ctx.saved_tensors\n",
    "        grad_input = torch.zeros(tuple(input_shape), device=grad_output.device)\n",
    "        grad_input.scatter_(-1, indices, grad_output)\n",
    "        return grad_input, None\n",
    "\n",
    "\n",
    "# Test function\n",
    "def test_topk_ste():\n",
    "    # Create a simple model that uses TopKSTE\n",
    "    class SimpleModel(nn.Module):\n",
    "        def __init__(self):\n",
    "            super().__init__()\n",
    "            self.linear = nn.Linear(5, 5)\n",
    "            self.topk_ste = TopKSTE.apply\n",
    "\n",
    "        def forward(self, x):\n",
    "            x = self.linear(x)\n",
    "            values, indices = self.topk_ste(x, 3)\n",
    "            return values.sum(), indices\n",
    "\n",
    "    # Create an instance of the model\n",
    "    model = SimpleModel()\n",
    "\n",
    "    # Create a random input tensor\n",
    "    x = torch.randn(1, 5, requires_grad=True)\n",
    "\n",
    "    # Forward pass\n",
    "    output, indices = model(x)\n",
    "\n",
    "    # Backward pass\n",
    "    output.backward()\n",
    "\n",
    "    # Print results\n",
    "    print(\"Input:\", x)\n",
    "    print(\"Output (sum of top-3 values):\", output)\n",
    "    print(\"Top-3 indices:\", indices)\n",
    "    print(\"Input gradient:\", x.grad)\n",
    "    print(\"Linear layer weight gradient:\", model.linear.weight.grad)\n",
    "\n",
    "\n",
    "# Run the test\n",
    "test_topk_ste()"
   ]
  },
  {
   "cell_type": "code",
   "execution_count": null,
   "metadata": {},
   "outputs": [],
   "source": []
  }
 ],
 "metadata": {
  "kernelspec": {
   "display_name": "Python 3",
   "language": "python",
   "name": "python3"
  },
  "language_info": {
   "codemirror_mode": {
    "name": "ipython",
    "version": 3
   },
   "file_extension": ".py",
   "mimetype": "text/x-python",
   "name": "python",
   "nbconvert_exporter": "python",
   "pygments_lexer": "ipython3",
   "version": "3.10.12"
  }
 },
 "nbformat": 4,
 "nbformat_minor": 2
}
