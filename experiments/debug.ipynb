{
 "cells": [
  {
   "cell_type": "code",
   "execution_count": 1,
   "metadata": {},
   "outputs": [],
   "source": [
    "import sys\n",
    "\n",
    "import datasets\n",
    "import torch\n",
    "from transformers import AutoTokenizer\n",
    "\n",
    "sys.path.append(\"..\")\n",
    "\n",
    "from logger import get_logger\n",
    "\n",
    "%load_ext autoreload\n",
    "%autoreload 2"
   ]
  },
  {
   "cell_type": "code",
   "execution_count": 1,
   "metadata": {},
   "outputs": [
    {
     "name": "stdout",
     "output_type": "stream",
     "text": [
      "hydra-ray-launcher -> /Users/sidbaskaran/miniconda3/envs/interp/lib/python3.10/site-packages\n"
     ]
    },
    {
     "name": "stderr",
     "output_type": "stream",
     "text": [
      "/var/folders/ym/vc9z3h415dn008d8y48sr2h80000gn/T/ipykernel_73597/667104175.py:1: DeprecationWarning: pkg_resources is deprecated as an API. See https://setuptools.pypa.io/en/latest/pkg_resources.html\n",
      "  import pkg_resources\n"
     ]
    }
   ],
   "source": [
    "import pkg_resources\n",
    "for package in pkg_resources.working_set:\n",
    "    if \"hydra\" in package.key and \"ray\" in package.key:\n",
    "        print(package.key, \"->\", package._provider.module_path)"
   ]
  },
  {
   "cell_type": "code",
   "execution_count": 2,
   "metadata": {},
   "outputs": [],
   "source": [
    "x = torch.randn(4,5,5)\n",
    "eigs = torch.linalg.eigvals(x)"
   ]
  },
  {
   "cell_type": "code",
   "execution_count": null,
   "metadata": {},
   "outputs": [],
   "source": [
    "tokenizer = AutoTokenizer.from_pretrained(\"meta-llama/Meta-Llama-3-8B\")\n",
    "tokenizer.pad_token_id = tokenizer.eos_token_id"
   ]
  },
  {
   "cell_type": "code",
   "execution_count": null,
   "metadata": {},
   "outputs": [],
   "source": [
    "tokenizer.convert_ids_to_tokens(\n",
    "    tokenizer(\n",
    "        tokenizer.bos_token + \"Test sentence.\",\n",
    "        add_special_tokens=True,\n",
    "        padding=True,\n",
    "        max_length=32,\n",
    "    ).input_ids\n",
    ")"
   ]
  },
  {
   "cell_type": "code",
   "execution_count": 2,
   "metadata": {},
   "outputs": [],
   "source": [
    "ds_train = datasets.load_from_disk(\n",
    "    \"/workspace/HyperDAS/experiments/RAVEL/data/city_country_train\"\n",
    ")\n",
    "ds_test = datasets.load_from_disk(\n",
    "    \"/workspace/HyperDAS/experiments/RAVEL/data/city_country_test\"\n",
    ")"
   ]
  },
  {
   "cell_type": "code",
   "execution_count": null,
   "metadata": {},
   "outputs": [],
   "source": [
    "ds_test[0]"
   ]
  },
  {
   "cell_type": "code",
   "execution_count": null,
   "metadata": {},
   "outputs": [],
   "source": [
    "ds_train, ds_test"
   ]
  },
  {
   "cell_type": "code",
   "execution_count": null,
   "metadata": {},
   "outputs": [],
   "source": [
    "sd = torch.load(\n",
    "    \"/workspace/HyperDAS/assets/checkpoints/ReflectSelect_20241029_161135/final_model/das.pt\"\n",
    ")"
   ]
  },
  {
   "cell_type": "code",
   "execution_count": null,
   "metadata": {},
   "outputs": [],
   "source": [
    "for k in sd.keys():\n",
    "    print(k)"
   ]
  },
  {
   "cell_type": "code",
   "execution_count": null,
   "metadata": {},
   "outputs": [],
   "source": [
    "sd[\"rotate_layer.parametrizations.weight.original\"].shape"
   ]
  },
  {
   "cell_type": "code",
   "execution_count": null,
   "metadata": {},
   "outputs": [],
   "source": [
    "sd[\"rotate_layer.parametrizations.weight.0.base\"].shape"
   ]
  },
  {
   "cell_type": "code",
   "execution_count": 7,
   "metadata": {},
   "outputs": [],
   "source": [
    "orth_linear = torch.nn.utils.parametrizations.orthogonal(torch.nn.Linear(20, 40))"
   ]
  },
  {
   "cell_type": "code",
   "execution_count": 9,
   "metadata": {},
   "outputs": [],
   "source": [
    "sdt = orth_linear.state_dict()"
   ]
  },
  {
   "cell_type": "code",
   "execution_count": null,
   "metadata": {},
   "outputs": [],
   "source": [
    "(\n",
    "    sdt[\"parametrizations.weight.0.base\"].shape,\n",
    "    sdt[\"parametrizations.weight.original\"].shape,\n",
    ")"
   ]
  },
  {
   "cell_type": "code",
   "execution_count": null,
   "metadata": {},
   "outputs": [],
   "source": [
    "torch.dist(\n",
    "    sdt[\"parametrizations.weight.original\"].T @ sdt[\"parametrizations.weight.original\"],\n",
    "    torch.eye(20),\n",
    ")"
   ]
  },
  {
   "cell_type": "code",
   "execution_count": null,
   "metadata": {},
   "outputs": [],
   "source": [
    "logger = get_logger(__name__)\n",
    "logger.debug(\"This is a debug message\")"
   ]
  },
  {
   "cell_type": "code",
   "execution_count": null,
   "metadata": {},
   "outputs": [],
   "source": [
    "x = torch.nn.Parameter(torch.randn(5, 5), requires_grad=True)\n",
    "\n",
    "y = 5 * x + 2\n",
    "\n",
    "vals, indices = torch.topk(y, 2)\n",
    "\n",
    "print(vals.requires_grad, indices.requires_grad)\n",
    "\n",
    "loss = vals.norm()\n",
    "loss.backward()"
   ]
  },
  {
   "cell_type": "code",
   "execution_count": null,
   "metadata": {},
   "outputs": [],
   "source": [
    "vals._grad"
   ]
  },
  {
   "cell_type": "code",
   "execution_count": null,
   "metadata": {},
   "outputs": [],
   "source": [
    "import torch\n",
    "import torch.nn as nn\n",
    "\n",
    "\n",
    "class TopKSTE(torch.autograd.Function):\n",
    "    @staticmethod\n",
    "    def forward(ctx, input, k):\n",
    "        # Get the values and indices of the top k elements\n",
    "        vals, indices = torch.topk(input, k, dim=-1)\n",
    "        ctx.save_for_backward(indices, torch.tensor(input.shape))\n",
    "        return vals, indices\n",
    "\n",
    "    @staticmethod\n",
    "    def backward(ctx, grad_output, grad_indices):\n",
    "        indices, input_shape = ctx.saved_tensors\n",
    "        grad_input = torch.zeros(tuple(input_shape), device=grad_output.device)\n",
    "        grad_input.scatter_(-1, indices, grad_output)\n",
    "        return grad_input, None\n",
    "\n",
    "\n",
    "# Test function\n",
    "def test_topk_ste():\n",
    "    # Create a simple model that uses TopKSTE\n",
    "    class SimpleModel(nn.Module):\n",
    "        def __init__(self):\n",
    "            super().__init__()\n",
    "            self.linear = nn.Linear(5, 5)\n",
    "            self.topk_ste = TopKSTE.apply\n",
    "\n",
    "        def forward(self, x):\n",
    "            x = self.linear(x)\n",
    "            values, indices = self.topk_ste(x, 3)\n",
    "            return values.sum(), indices\n",
    "\n",
    "    # Create an instance of the model\n",
    "    model = SimpleModel()\n",
    "\n",
    "    # Create a random input tensor\n",
    "    x = torch.randn(1, 5, requires_grad=True)\n",
    "\n",
    "    # Forward pass\n",
    "    output, indices = model(x)\n",
    "\n",
    "    # Backward pass\n",
    "    output.backward()\n",
    "\n",
    "    # Print results\n",
    "    print(\"Input:\", x)\n",
    "    print(\"Output (sum of top-3 values):\", output)\n",
    "    print(\"Top-3 indices:\", indices)\n",
    "    print(\"Input gradient:\", x.grad)\n",
    "    print(\"Linear layer weight gradient:\", model.linear.weight.grad)\n",
    "\n",
    "\n",
    "# Run the test\n",
    "test_topk_ste()"
   ]
  },
  {
   "cell_type": "code",
   "execution_count": null,
   "metadata": {},
   "outputs": [],
   "source": []
  }
 ],
 "metadata": {
  "kernelspec": {
   "display_name": "Python 3",
   "language": "python",
   "name": "python3"
  },
  "language_info": {
   "codemirror_mode": {
    "name": "ipython",
    "version": 3
   },
   "file_extension": ".py",
   "mimetype": "text/x-python",
   "name": "python",
   "nbconvert_exporter": "python",
   "pygments_lexer": "ipython3",
   "version": "3.10.12"
  }
 },
 "nbformat": 4,
 "nbformat_minor": 2
}
